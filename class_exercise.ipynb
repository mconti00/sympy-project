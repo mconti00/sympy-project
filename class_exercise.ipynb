{
 "cells": [
  {
   "cell_type": "code",
   "execution_count": null,
   "id": "3e0b928b",
   "metadata": {},
   "outputs": [],
   "source": []
  },
  {
   "cell_type": "markdown",
   "id": "8d186bdb",
   "metadata": {},
   "source": [
    "\n",
    "\n",
    "\\begin{equation}\n",
    "    \\begin{bmatrix}{}\n",
    "      \\ddot{x_1} \\\\\n",
    "      \\ddot{x_2}\n",
    "    \\end{bmatrix}{}\n",
    "    =\\frac{k}{m}\n",
    "    \\begin{bmatrix}{}\n",
    "     -2 &  1 \\\\\n",
    "      1 & -2\n",
    "    \\end{bmatrix}{}\n",
    "    \\begin{bmatrix}{}\n",
    "      x_1 \\\\\n",
    "      x_2\n",
    "    \\end{bmatrix}{}\n",
    "    \\label{eq: coupled springs} \\tag{1}\n",
    "\\end{equation}\n",
    "\n",
    "\n",
    "\n",
    "\\begin{equation}\n",
    "    \\ddot{X}=AX\n",
    "    \\label{eq: matrices}\\tag{2}\n",
    "\\end{equation}"
   ]
  }
 ],
 "metadata": {
  "kernelspec": {
   "display_name": "venvPP",
   "language": "python",
   "name": "venvpp"
  },
  "language_info": {
   "codemirror_mode": {
    "name": "ipython",
    "version": 3
   },
   "file_extension": ".py",
   "mimetype": "text/x-python",
   "name": "python",
   "nbconvert_exporter": "python",
   "pygments_lexer": "ipython3",
   "version": "3.12.0"
  }
 },
 "nbformat": 4,
 "nbformat_minor": 5
}
