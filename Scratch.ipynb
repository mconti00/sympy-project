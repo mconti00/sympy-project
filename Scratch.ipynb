{
 "cells": [
  {
   "cell_type": "code",
   "execution_count": 1,
   "id": "b43d5fe7",
   "metadata": {},
   "outputs": [
    {
     "data": {
      "text/latex": [
       "$\\displaystyle - 0.5 v{\\left(t \\right)} - 2 \\frac{d}{d t} v{\\left(t \\right)} + 19.6$"
      ],
      "text/plain": [
       "-0.5*v(t) - 2*Derivative(v(t), t) + 19.6"
      ]
     },
     "metadata": {},
     "output_type": "display_data"
    },
    {
     "data": {
      "text/latex": [
       "$\\displaystyle v{\\left(t \\right)} = C_{1} e^{- 0.25 t} + 39.2$"
      ],
      "text/plain": [
       "Eq(v(t), C1*exp(-0.25*t) + 39.2)"
      ]
     },
     "metadata": {},
     "output_type": "display_data"
    },
    {
     "data": {
      "text/plain": [
       "[-39.2000000000000]"
      ]
     },
     "metadata": {},
     "output_type": "display_data"
    },
    {
     "data": {
      "text/latex": [
       "$\\displaystyle -39.2$"
      ],
      "text/plain": [
       "-39.2000000000000"
      ]
     },
     "metadata": {},
     "output_type": "display_data"
    },
    {
     "data": {
      "text/latex": [
       "$\\displaystyle v{\\left(t \\right)} = 39.2 - 39.2 e^{- 0.25 t}$"
      ],
      "text/plain": [
       "Eq(v(t), 39.2 - 39.2*exp(-0.25*t))"
      ]
     },
     "execution_count": 1,
     "metadata": {},
     "output_type": "execute_result"
    }
   ],
   "source": [
    "from sympy import *\n",
    "\n",
    "m = 2\n",
    "g = 9.8\n",
    "k = 0.5\n",
    "f = Function('f')\n",
    "f1 = g * m\n",
    "t = Symbol('t')\n",
    "v = Function('v')\n",
    "display(f1 - k * v(t) - m * Derivative(v(t)))\n",
    "equation = dsolve(f1 - k * v(t) - m * Derivative(v(t)), 0)\n",
    "display(equation)\n",
    "C1 = Symbol('C1')\n",
    "display(solve(equation.rhs.subs({t:0}),C1))\n",
    "C1_ic = solve(equation.rhs.subs({t:0}),C1)[0]\n",
    "display(C1_ic)\n",
    "equation.subs({C1:C1_ic})"
   ]
  },
  {
   "cell_type": "code",
   "execution_count": 2,
   "id": "6491d2b6",
   "metadata": {},
   "outputs": [
    {
     "data": {
      "text/latex": [
       "$\\displaystyle \\frac{d}{d x} f{\\left(x \\right)} = g{\\left(x \\right)}$"
      ],
      "text/plain": [
       "Eq(Derivative(f(x), x), g(x))"
      ]
     },
     "metadata": {},
     "output_type": "display_data"
    },
    {
     "data": {
      "text/latex": [
       "$\\displaystyle \\frac{d}{d x} g{\\left(x \\right)} = f{\\left(x \\right)}$"
      ],
      "text/plain": [
       "Eq(Derivative(g(x), x), f(x))"
      ]
     },
     "metadata": {},
     "output_type": "display_data"
    },
    {
     "data": {
      "text/latex": [
       "$\\displaystyle f{\\left(x \\right)} = - C_{1} e^{- x} + C_{2} e^{x}$"
      ],
      "text/plain": [
       "Eq(f(x), -C1*exp(-x) + C2*exp(x))"
      ]
     },
     "metadata": {},
     "output_type": "display_data"
    },
    {
     "data": {
      "text/latex": [
       "$\\displaystyle g{\\left(x \\right)} = C_{1} e^{- x} + C_{2} e^{x}$"
      ],
      "text/plain": [
       "Eq(g(x), C1*exp(-x) + C2*exp(x))"
      ]
     },
     "metadata": {},
     "output_type": "display_data"
    },
    {
     "data": {
      "text/latex": [
       "$\\displaystyle f{\\left(x \\right)} = \\frac{\\left(1 + 3 e^{2}\\right) e^{x}}{1 + e^{4}} - \\frac{\\left(- e^{4} + 3 e^{2}\\right) e^{- x}}{1 + e^{4}}$"
      ],
      "text/plain": [
       "Eq(f(x), (1 + 3*exp(2))*exp(x)/(1 + exp(4)) - (-exp(4) + 3*exp(2))*exp(-x)/(1 + exp(4)))"
      ]
     },
     "metadata": {},
     "output_type": "display_data"
    },
    {
     "data": {
      "text/latex": [
       "$\\displaystyle g{\\left(x \\right)} = \\frac{\\left(1 + 3 e^{2}\\right) e^{x}}{1 + e^{4}} + \\frac{\\left(- e^{4} + 3 e^{2}\\right) e^{- x}}{1 + e^{4}}$"
      ],
      "text/plain": [
       "Eq(g(x), (1 + 3*exp(2))*exp(x)/(1 + exp(4)) + (-exp(4) + 3*exp(2))*exp(-x)/(1 + exp(4)))"
      ]
     },
     "metadata": {},
     "output_type": "display_data"
    }
   ],
   "source": [
    "from sympy import symbols, Eq, Function, dsolve\n",
    "f, g = symbols(\"f g\", cls=Function)\n",
    "x = symbols(\"x\")\n",
    "eqs = [Eq(f(x).diff(x), g(x)), Eq(g(x).diff(x), f(x))]\n",
    "display(eqs[0])\n",
    "display(eqs[1])\n",
    "\n",
    "sol = dsolve(eqs, [f(x), g(x)])\n",
    "solution = dsolve(eqs, [f(x), g(x)], ics={f(0): 1, g(2): 3})\n",
    "\n",
    "display(sol[0])\n",
    "display(sol[1])\n",
    "\n",
    "display(solution[0])\n",
    "display(solution[1])"
   ]
  },
  {
   "cell_type": "code",
   "execution_count": 3,
   "id": "0b50f7d0",
   "metadata": {},
   "outputs": [
    {
     "data": {
      "text/latex": [
       "$\\displaystyle \\frac{d}{d x} f{\\left(x \\right)} = f{\\left(x \\right)}$"
      ],
      "text/plain": [
       "Eq(Derivative(f(x), x), f(x))"
      ]
     },
     "metadata": {},
     "output_type": "display_data"
    },
    {
     "data": {
      "text/latex": [
       "$\\displaystyle f{\\left(x \\right)} = C_{1} e^{x}$"
      ],
      "text/plain": [
       "Eq(f(x), C1*exp(x))"
      ]
     },
     "metadata": {},
     "output_type": "display_data"
    },
    {
     "data": {
      "text/latex": [
       "$\\displaystyle f{\\left(x \\right)} = \\frac{2 e^{x}}{e}$"
      ],
      "text/plain": [
       "Eq(f(x), 2*exp(-1)*exp(x))"
      ]
     },
     "execution_count": 3,
     "metadata": {},
     "output_type": "execute_result"
    }
   ],
   "source": [
    "eqn = Eq(f(x).diff(x), f(x))\n",
    "display(eqn)\n",
    "solution2 = dsolve(eqn, f(x))\n",
    "display(solution2)\n",
    "dsolve(eqn, f(x), ics={f(x).diff(x).subs(x, 1): 2})"
   ]
  },
  {
   "cell_type": "code",
   "execution_count": 4,
   "id": "1ae02535",
   "metadata": {},
   "outputs": [
    {
     "data": {
      "text/latex": [
       "$\\displaystyle \\left. \\frac{d}{d x} f{\\left(x \\right)} \\right|_{\\substack{ x=1 }}$"
      ],
      "text/plain": [
       "Subs(Derivative(f(x), x), x, 1)"
      ]
     },
     "metadata": {},
     "output_type": "display_data"
    }
   ],
   "source": [
    "display(f(x).diff(x).subs(x, 1))"
   ]
  },
  {
   "cell_type": "code",
   "execution_count": 5,
   "id": "b4370ee3",
   "metadata": {},
   "outputs": [],
   "source": [
    "## Solving coupled linear ODEs"
   ]
  },
  {
   "cell_type": "code",
   "execution_count": 6,
   "id": "e7c34822",
   "metadata": {},
   "outputs": [
    {
     "data": {
      "text/latex": [
       "$\\displaystyle \\frac{d}{d t} V{\\left(t \\right)} = - \\frac{V{\\left(t \\right)}}{RC} + \\frac{I{\\left(t \\right)}}{C}$"
      ],
      "text/plain": [
       "Eq(Derivative(V(t), t), -V(t)/RC + I(t)/C)"
      ]
     },
     "metadata": {},
     "output_type": "display_data"
    },
    {
     "data": {
      "text/latex": [
       "$\\displaystyle \\frac{d}{d t} I{\\left(t \\right)} = - \\frac{R_{1} I{\\left(t \\right)}}{L} + \\frac{Vs}{L} - \\frac{V{\\left(t \\right)}}{L}$"
      ],
      "text/plain": [
       "Eq(Derivative(I(t), t), -R1*I(t)/L + Vs/L - V(t)/L)"
      ]
     },
     "metadata": {},
     "output_type": "display_data"
    }
   ],
   "source": [
    "import sympy as sym\n",
    "\n",
    "V, I = sym.symbols(\"V I\", cls=sym.Function)\n",
    "RC, t, C, Vs, L, R1, V0, I0 = sym.symbols(\"RC t C Vs L R1 V0 I0\")\n",
    "\n",
    "system = [sym.Eq(V(t).diff(t), -1/RC*V(t) + I(t)/C), sym.Eq(I(t).diff(t), -R1/L*I(t) - 1/L*V(t) + Vs/L)]\n",
    "display(system[0])\n",
    "display(system[1])"
   ]
  },
  {
   "cell_type": "code",
   "execution_count": null,
   "id": "233e6abe",
   "metadata": {},
   "outputs": [],
   "source": [
    "init_conditions = {V(0): V0, I(0): I0}\n",
    "sol_system = sym.dsolve(system, [V(t), I(t)], ics=init_conditions)\n",
    "sol_system"
   ]
  },
  {
   "cell_type": "code",
   "execution_count": null,
   "id": "575e05de",
   "metadata": {},
   "outputs": [],
   "source": [
    "from sympy import Function, Eq, sin, dsolve\n",
    "# This module exports all latin and greek letters as Symbols\n",
    "from sympy.abc import t, g, L\n",
    "\n",
    "theta = Function('theta')(t)\n",
    "ddtheta = theta.diff(t).diff(t)\n",
    "SODE = Eq(ddtheta, -(g/L)*sin(theta))\n",
    "dsolve(SODE)"
   ]
  }
 ],
 "metadata": {
  "kernelspec": {
   "display_name": "venvPP",
   "language": "python",
   "name": "venvpp"
  },
  "language_info": {
   "codemirror_mode": {
    "name": "ipython",
    "version": 3
   },
   "file_extension": ".py",
   "mimetype": "text/x-python",
   "name": "python",
   "nbconvert_exporter": "python",
   "pygments_lexer": "ipython3",
   "version": "3.12.0"
  }
 },
 "nbformat": 4,
 "nbformat_minor": 5
}
