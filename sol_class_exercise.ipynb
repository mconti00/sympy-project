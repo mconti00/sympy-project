{
 "cells": [
  {
   "cell_type": "code",
   "execution_count": 53,
   "id": "b77e3134",
   "metadata": {},
   "outputs": [
    {
     "data": {
      "text/latex": [
       "$\\displaystyle x_{1}{\\left(t \\right)} = \\frac{\\cos{\\left(t \\right)}}{2} + \\frac{\\cos{\\left(\\sqrt{3} t \\right)}}{2}$"
      ],
      "text/plain": [
       "Eq(x_1(t), cos(t)/2 + cos(sqrt(3)*t)/2)"
      ]
     },
     "metadata": {},
     "output_type": "display_data"
    },
    {
     "data": {
      "text/latex": [
       "$\\displaystyle x_{2}{\\left(t \\right)} = \\frac{\\cos{\\left(t \\right)}}{2} - \\frac{\\cos{\\left(\\sqrt{3} t \\right)}}{2}$"
      ],
      "text/plain": [
       "Eq(x_2(t), cos(t)/2 - cos(sqrt(3)*t)/2)"
      ]
     },
     "metadata": {},
     "output_type": "display_data"
    }
   ],
   "source": [
    "from sympy import symbols, Function, Eq, dsolve, Derivative \n",
    "\n",
    "t, k, m, A = symbols('t k m A', real=True)\n",
    "\n",
    "x1, x2 = symbols(\"x_1 x_2\", cls=Function, real=True)\n",
    "\n",
    "eqns = [Eq(Derivative(x1(t),t,2), -2*x1(t)+x2(t)), Eq(Derivative(x2(t),t,2), x1(t)-2*x2(t))]\n",
    "# display(eqns[0])\n",
    "# display(eqns[1])\n",
    "\n",
    "sol = dsolve(eqns, [x1(t), x2(t)])\n",
    "# display(sol[0])\n",
    "# display(sol[1])\n",
    "\n",
    "solution = dsolve(eqns, [x1(t), x2(t)], ics={Derivative(x1(t),t,1).subs(t,0): 0, Derivative(x2(t),t,1).subs(t,0):0, x1(0): 1, x2(0): 0})\n",
    "display(solution[0])\n",
    "display(solution[1])"
   ]
  },
  {
   "cell_type": "code",
   "execution_count": 33,
   "id": "5f875ff0",
   "metadata": {},
   "outputs": [
    {
     "name": "stdout",
     "output_type": "stream",
     "text": [
      "1.12\n"
     ]
    },
    {
     "name": "stderr",
     "output_type": "stream",
     "text": [
      "C:\\Users\\Michela Conti\\AppData\\Local\\Temp\\ipykernel_14804\\77425982.py:11: SymPyDeprecationWarning: \n",
      "\n",
      "non-Expr objects in a Matrix is deprecated. Matrix represents\n",
      "a mathematical matrix. To represent a container of non-numeric\n",
      "entities, Use a list of lists, TableForm, NumPy array, or some\n",
      "other data structure instead.\n",
      "\n",
      "See https://docs.sympy.org/latest/explanation/active-deprecations.html#deprecated-non-expr-in-matrix\n",
      "for details.\n",
      "\n",
      "This has been deprecated since SymPy version 1.9. It\n",
      "will be removed in a future version of SymPy.\n",
      "\n",
      "  x_vec = Matrix([x1, x2])\n"
     ]
    },
    {
     "ename": "TypeError",
     "evalue": "unsupported operand type(s) for *: 'Mul' and 'UndefinedFunction'",
     "output_type": "error",
     "traceback": [
      "\u001b[1;31m---------------------------------------------------------------------------\u001b[0m",
      "\u001b[1;31mTypeError\u001b[0m                                 Traceback (most recent call last)",
      "Cell \u001b[1;32mIn[33], line 13\u001b[0m\n\u001b[0;32m     10\u001b[0m A\u001b[38;5;241m=\u001b[39m (k\u001b[38;5;241m/\u001b[39mm) \u001b[38;5;241m*\u001b[39m matrix\n\u001b[0;32m     11\u001b[0m x_vec \u001b[38;5;241m=\u001b[39m Matrix([x1, x2])\n\u001b[1;32m---> 13\u001b[0m RHS \u001b[38;5;241m=\u001b[39m \u001b[43mA\u001b[49m\u001b[43m \u001b[49m\u001b[38;5;241;43m*\u001b[39;49m\u001b[43m \u001b[49m\u001b[43mx_vec\u001b[49m\n\u001b[0;32m     14\u001b[0m \u001b[38;5;66;03m# LHS=Matrix([Derivative(x1(t), t, 2), Derivative(x2(t),t,2)])\u001b[39;00m\n\u001b[0;32m     15\u001b[0m \u001b[38;5;66;03m# display(LHS)\u001b[39;00m\n\u001b[0;32m     16\u001b[0m \u001b[38;5;66;03m# display(RHS)\u001b[39;00m\n\u001b[1;32m   (...)\u001b[0m\n\u001b[0;32m     21\u001b[0m \n\u001b[0;32m     22\u001b[0m \u001b[38;5;66;03m# solution = dsolve(eqn, )\u001b[39;00m\n",
      "File \u001b[1;32m~\\AppData\\Roaming\\Python\\Python312\\site-packages\\sympy\\core\\decorators.py:106\u001b[0m, in \u001b[0;36mcall_highest_priority.<locals>.priority_decorator.<locals>.binary_op_wrapper\u001b[1;34m(self, other)\u001b[0m\n\u001b[0;32m    104\u001b[0m         \u001b[38;5;28;01mif\u001b[39;00m f \u001b[38;5;129;01mis\u001b[39;00m \u001b[38;5;129;01mnot\u001b[39;00m \u001b[38;5;28;01mNone\u001b[39;00m:\n\u001b[0;32m    105\u001b[0m             \u001b[38;5;28;01mreturn\u001b[39;00m f(\u001b[38;5;28mself\u001b[39m)\n\u001b[1;32m--> 106\u001b[0m \u001b[38;5;28;01mreturn\u001b[39;00m \u001b[43mfunc\u001b[49m\u001b[43m(\u001b[49m\u001b[38;5;28;43mself\u001b[39;49m\u001b[43m,\u001b[49m\u001b[43m \u001b[49m\u001b[43mother\u001b[49m\u001b[43m)\u001b[49m\n",
      "File \u001b[1;32m~\\AppData\\Roaming\\Python\\Python312\\site-packages\\sympy\\matrices\\common.py:2702\u001b[0m, in \u001b[0;36mMatrixArithmetic.__mul__\u001b[1;34m(self, other)\u001b[0m\n\u001b[0;32m   2673\u001b[0m \u001b[38;5;129m@call_highest_priority\u001b[39m(\u001b[38;5;124m'\u001b[39m\u001b[38;5;124m__rmul__\u001b[39m\u001b[38;5;124m'\u001b[39m)\n\u001b[0;32m   2674\u001b[0m \u001b[38;5;28;01mdef\u001b[39;00m \u001b[38;5;21m__mul__\u001b[39m(\u001b[38;5;28mself\u001b[39m, other):\n\u001b[0;32m   2675\u001b[0m \u001b[38;5;250m    \u001b[39m\u001b[38;5;124;03m\"\"\"Return self*other where other is either a scalar or a matrix\u001b[39;00m\n\u001b[0;32m   2676\u001b[0m \u001b[38;5;124;03m    of compatible dimensions.\u001b[39;00m\n\u001b[0;32m   2677\u001b[0m \n\u001b[1;32m   (...)\u001b[0m\n\u001b[0;32m   2699\u001b[0m \u001b[38;5;124;03m    matrix_multiply_elementwise\u001b[39;00m\n\u001b[0;32m   2700\u001b[0m \u001b[38;5;124;03m    \"\"\"\u001b[39;00m\n\u001b[1;32m-> 2702\u001b[0m     \u001b[38;5;28;01mreturn\u001b[39;00m \u001b[38;5;28;43mself\u001b[39;49m\u001b[38;5;241;43m.\u001b[39;49m\u001b[43mmultiply\u001b[49m\u001b[43m(\u001b[49m\u001b[43mother\u001b[49m\u001b[43m)\u001b[49m\n",
      "File \u001b[1;32m~\\AppData\\Roaming\\Python\\Python312\\site-packages\\sympy\\matrices\\common.py:2729\u001b[0m, in \u001b[0;36mMatrixArithmetic.multiply\u001b[1;34m(self, other, dotprodsimp)\u001b[0m\n\u001b[0;32m   2727\u001b[0m \u001b[38;5;66;03m# honest SymPy matrices defer to their class's routine\u001b[39;00m\n\u001b[0;32m   2728\u001b[0m \u001b[38;5;28;01mif\u001b[39;00m \u001b[38;5;28mgetattr\u001b[39m(other, \u001b[38;5;124m'\u001b[39m\u001b[38;5;124mis_Matrix\u001b[39m\u001b[38;5;124m'\u001b[39m, \u001b[38;5;28;01mFalse\u001b[39;00m):\n\u001b[1;32m-> 2729\u001b[0m     m \u001b[38;5;241m=\u001b[39m \u001b[38;5;28;43mself\u001b[39;49m\u001b[38;5;241;43m.\u001b[39;49m\u001b[43m_eval_matrix_mul\u001b[49m\u001b[43m(\u001b[49m\u001b[43mother\u001b[49m\u001b[43m)\u001b[49m\n\u001b[0;32m   2730\u001b[0m     \u001b[38;5;28;01mif\u001b[39;00m isimpbool:\n\u001b[0;32m   2731\u001b[0m         \u001b[38;5;28;01mreturn\u001b[39;00m m\u001b[38;5;241m.\u001b[39m_new(m\u001b[38;5;241m.\u001b[39mrows, m\u001b[38;5;241m.\u001b[39mcols, [_dotprodsimp(e) \u001b[38;5;28;01mfor\u001b[39;00m e \u001b[38;5;129;01min\u001b[39;00m m])\n",
      "File \u001b[1;32m~\\AppData\\Roaming\\Python\\Python312\\site-packages\\sympy\\matrices\\repmatrix.py:249\u001b[0m, in \u001b[0;36mRepMatrix._eval_matrix_mul\u001b[1;34m(self, other)\u001b[0m\n\u001b[0;32m    248\u001b[0m \u001b[38;5;28;01mdef\u001b[39;00m \u001b[38;5;21m_eval_matrix_mul\u001b[39m(\u001b[38;5;28mself\u001b[39m, other):\n\u001b[1;32m--> 249\u001b[0m     \u001b[38;5;28;01mreturn\u001b[39;00m classof(\u001b[38;5;28mself\u001b[39m, other)\u001b[38;5;241m.\u001b[39m_fromrep(\u001b[38;5;28;43mself\u001b[39;49m\u001b[38;5;241;43m.\u001b[39;49m\u001b[43m_rep\u001b[49m\u001b[43m \u001b[49m\u001b[38;5;241;43m*\u001b[39;49m\u001b[43m \u001b[49m\u001b[43mother\u001b[49m\u001b[38;5;241;43m.\u001b[39;49m\u001b[43m_rep\u001b[49m)\n",
      "File \u001b[1;32m~\\AppData\\Roaming\\Python\\Python312\\site-packages\\sympy\\polys\\matrices\\domainmatrix.py:813\u001b[0m, in \u001b[0;36mDomainMatrix.__mul__\u001b[1;34m(A, B)\u001b[0m\n\u001b[0;32m    811\u001b[0m \u001b[38;5;28;01mif\u001b[39;00m \u001b[38;5;28misinstance\u001b[39m(B, DomainMatrix):\n\u001b[0;32m    812\u001b[0m     A, B \u001b[38;5;241m=\u001b[39m A\u001b[38;5;241m.\u001b[39munify(B, fmt\u001b[38;5;241m=\u001b[39m\u001b[38;5;124m'\u001b[39m\u001b[38;5;124mdense\u001b[39m\u001b[38;5;124m'\u001b[39m)\n\u001b[1;32m--> 813\u001b[0m     \u001b[38;5;28;01mreturn\u001b[39;00m \u001b[43mA\u001b[49m\u001b[38;5;241;43m.\u001b[39;49m\u001b[43mmatmul\u001b[49m\u001b[43m(\u001b[49m\u001b[43mB\u001b[49m\u001b[43m)\u001b[49m\n\u001b[0;32m    814\u001b[0m \u001b[38;5;28;01melif\u001b[39;00m B \u001b[38;5;129;01min\u001b[39;00m A\u001b[38;5;241m.\u001b[39mdomain:\n\u001b[0;32m    815\u001b[0m     \u001b[38;5;28;01mreturn\u001b[39;00m A\u001b[38;5;241m.\u001b[39mscalarmul(B)\n",
      "File \u001b[1;32m~\\AppData\\Roaming\\Python\\Python312\\site-packages\\sympy\\polys\\matrices\\domainmatrix.py:1063\u001b[0m, in \u001b[0;36mDomainMatrix.matmul\u001b[1;34m(A, B)\u001b[0m\n\u001b[0;32m   1025\u001b[0m \u001b[38;5;250m\u001b[39m\u001b[38;5;124mr\u001b[39m\u001b[38;5;124;03m\"\"\"\u001b[39;00m\n\u001b[0;32m   1026\u001b[0m \u001b[38;5;124;03mPerforms matrix multiplication of two DomainMatrix matrices\u001b[39;00m\n\u001b[0;32m   1027\u001b[0m \n\u001b[1;32m   (...)\u001b[0m\n\u001b[0;32m   1059\u001b[0m \n\u001b[0;32m   1060\u001b[0m \u001b[38;5;124;03m\"\"\"\u001b[39;00m\n\u001b[0;32m   1062\u001b[0m A\u001b[38;5;241m.\u001b[39m_check(\u001b[38;5;124m'\u001b[39m\u001b[38;5;124m*\u001b[39m\u001b[38;5;124m'\u001b[39m, B, A\u001b[38;5;241m.\u001b[39mshape[\u001b[38;5;241m1\u001b[39m], B\u001b[38;5;241m.\u001b[39mshape[\u001b[38;5;241m0\u001b[39m])\n\u001b[1;32m-> 1063\u001b[0m \u001b[38;5;28;01mreturn\u001b[39;00m A\u001b[38;5;241m.\u001b[39mfrom_rep(\u001b[43mA\u001b[49m\u001b[38;5;241;43m.\u001b[39;49m\u001b[43mrep\u001b[49m\u001b[38;5;241;43m.\u001b[39;49m\u001b[43mmatmul\u001b[49m\u001b[43m(\u001b[49m\u001b[43mB\u001b[49m\u001b[38;5;241;43m.\u001b[39;49m\u001b[43mrep\u001b[49m\u001b[43m)\u001b[49m)\n",
      "File \u001b[1;32m~\\AppData\\Roaming\\Python\\Python312\\site-packages\\sympy\\polys\\matrices\\sdm.py:483\u001b[0m, in \u001b[0;36mSDM.matmul\u001b[1;34m(A, B)\u001b[0m\n\u001b[0;32m    481\u001b[0m \u001b[38;5;28;01mif\u001b[39;00m n \u001b[38;5;241m!=\u001b[39m n2:\n\u001b[0;32m    482\u001b[0m     \u001b[38;5;28;01mraise\u001b[39;00m DMShapeError\n\u001b[1;32m--> 483\u001b[0m C \u001b[38;5;241m=\u001b[39m \u001b[43msdm_matmul\u001b[49m\u001b[43m(\u001b[49m\u001b[43mA\u001b[49m\u001b[43m,\u001b[49m\u001b[43m \u001b[49m\u001b[43mB\u001b[49m\u001b[43m,\u001b[49m\u001b[43m \u001b[49m\u001b[43mA\u001b[49m\u001b[38;5;241;43m.\u001b[39;49m\u001b[43mdomain\u001b[49m\u001b[43m,\u001b[49m\u001b[43m \u001b[49m\u001b[43mm\u001b[49m\u001b[43m,\u001b[49m\u001b[43m \u001b[49m\u001b[43mo\u001b[49m\u001b[43m)\u001b[49m\n\u001b[0;32m    484\u001b[0m \u001b[38;5;28;01mreturn\u001b[39;00m A\u001b[38;5;241m.\u001b[39mnew(C, (m, o), A\u001b[38;5;241m.\u001b[39mdomain)\n",
      "File \u001b[1;32m~\\AppData\\Roaming\\Python\\Python312\\site-packages\\sympy\\polys\\matrices\\sdm.py:952\u001b[0m, in \u001b[0;36msdm_matmul\u001b[1;34m(A, B, K, m, o)\u001b[0m\n\u001b[0;32m    934\u001b[0m \u001b[38;5;28;01mdef\u001b[39;00m \u001b[38;5;21msdm_matmul\u001b[39m(A, B, K, m, o):\n\u001b[0;32m    935\u001b[0m     \u001b[38;5;66;03m#\u001b[39;00m\n\u001b[0;32m    936\u001b[0m     \u001b[38;5;66;03m# Should be fast if A and B are very sparse.\u001b[39;00m\n\u001b[1;32m   (...)\u001b[0m\n\u001b[0;32m    949\u001b[0m     \u001b[38;5;66;03m# of int can be computed very efficiently.\u001b[39;00m\n\u001b[0;32m    950\u001b[0m     \u001b[38;5;66;03m#\u001b[39;00m\n\u001b[0;32m    951\u001b[0m     \u001b[38;5;28;01mif\u001b[39;00m K\u001b[38;5;241m.\u001b[39mis_EXRAW:\n\u001b[1;32m--> 952\u001b[0m         \u001b[38;5;28;01mreturn\u001b[39;00m \u001b[43msdm_matmul_exraw\u001b[49m\u001b[43m(\u001b[49m\u001b[43mA\u001b[49m\u001b[43m,\u001b[49m\u001b[43m \u001b[49m\u001b[43mB\u001b[49m\u001b[43m,\u001b[49m\u001b[43m \u001b[49m\u001b[43mK\u001b[49m\u001b[43m,\u001b[49m\u001b[43m \u001b[49m\u001b[43mm\u001b[49m\u001b[43m,\u001b[49m\u001b[43m \u001b[49m\u001b[43mo\u001b[49m\u001b[43m)\u001b[49m\n\u001b[0;32m    954\u001b[0m     C \u001b[38;5;241m=\u001b[39m {}\n\u001b[0;32m    955\u001b[0m     B_knz \u001b[38;5;241m=\u001b[39m \u001b[38;5;28mset\u001b[39m(B)\n",
      "File \u001b[1;32m~\\AppData\\Roaming\\Python\\Python312\\site-packages\\sympy\\polys\\matrices\\sdm.py:998\u001b[0m, in \u001b[0;36msdm_matmul_exraw\u001b[1;34m(A, B, K, m, o)\u001b[0m\n\u001b[0;32m    995\u001b[0m \u001b[38;5;28;01mif\u001b[39;00m zero \u001b[38;5;241m*\u001b[39m Aik \u001b[38;5;241m==\u001b[39m zero:\n\u001b[0;32m    996\u001b[0m     \u001b[38;5;66;03m# This is the main inner loop:\u001b[39;00m\n\u001b[0;32m    997\u001b[0m     \u001b[38;5;28;01mfor\u001b[39;00m j, Bkj \u001b[38;5;129;01min\u001b[39;00m B[k]\u001b[38;5;241m.\u001b[39mitems():\n\u001b[1;32m--> 998\u001b[0m         Ci_list[j]\u001b[38;5;241m.\u001b[39mappend(\u001b[43mAik\u001b[49m\u001b[43m \u001b[49m\u001b[38;5;241;43m*\u001b[39;49m\u001b[43m \u001b[49m\u001b[43mBkj\u001b[49m)\n\u001b[0;32m    999\u001b[0m \u001b[38;5;28;01melse\u001b[39;00m:\n\u001b[0;32m   1000\u001b[0m     \u001b[38;5;28;01mfor\u001b[39;00m j \u001b[38;5;129;01min\u001b[39;00m \u001b[38;5;28mrange\u001b[39m(o):\n",
      "\u001b[1;31mTypeError\u001b[0m: unsupported operand type(s) for *: 'Mul' and 'UndefinedFunction'"
     ]
    }
   ],
   "source": [
    "from sympy import symbols, Function, Eq, dsolve, Derivative, Matrix\n",
    "\n",
    "print(sym.__version__)\n",
    "t, k, m, A = symbols('t k m A', real=True)\n",
    "\n",
    "x1, x2 = symbols(\"x_1 x_2\", cls=Function, real=True)\n",
    "\n",
    "matrix = Matrix([[-2, 1], \n",
    "                 [1, -2]])\n",
    "A= (k/m) * matrix\n",
    "x_vec = Matrix([x1, x2])\n",
    "\n",
    "RHS = A * x_vec\n",
    "# LHS=Matrix([Derivative(x1(t), t, 2), Derivative(x2(t),t,2)])\n",
    "# display(LHS)\n",
    "# display(RHS)\n",
    "\n",
    "# display(LHS-RHS)\n",
    "# eqn = (LHS-RHS).T.tolist()[0]\n",
    "# display(eqn)\n",
    "\n",
    "# solution = dsolve(eqn, )\n"
   ]
  }
 ],
 "metadata": {
  "kernelspec": {
   "display_name": "venvPP",
   "language": "python",
   "name": "venvpp"
  },
  "language_info": {
   "codemirror_mode": {
    "name": "ipython",
    "version": 3
   },
   "file_extension": ".py",
   "mimetype": "text/x-python",
   "name": "python",
   "nbconvert_exporter": "python",
   "pygments_lexer": "ipython3",
   "version": "3.12.0"
  }
 },
 "nbformat": 4,
 "nbformat_minor": 5
}
