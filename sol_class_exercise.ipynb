{
 "cells": [
  {
   "cell_type": "code",
   "execution_count": 53,
   "id": "b77e3134",
   "metadata": {},
   "outputs": [
    {
     "data": {
      "text/latex": [
       "$\\displaystyle x_{1}{\\left(t \\right)} = \\frac{\\cos{\\left(t \\right)}}{2} + \\frac{\\cos{\\left(\\sqrt{3} t \\right)}}{2}$"
      ],
      "text/plain": [
       "Eq(x_1(t), cos(t)/2 + cos(sqrt(3)*t)/2)"
      ]
     },
     "metadata": {},
     "output_type": "display_data"
    },
    {
     "data": {
      "text/latex": [
       "$\\displaystyle x_{2}{\\left(t \\right)} = \\frac{\\cos{\\left(t \\right)}}{2} - \\frac{\\cos{\\left(\\sqrt{3} t \\right)}}{2}$"
      ],
      "text/plain": [
       "Eq(x_2(t), cos(t)/2 - cos(sqrt(3)*t)/2)"
      ]
     },
     "metadata": {},
     "output_type": "display_data"
    }
   ],
   "source": [
    "from sympy import symbols, Function, Eq, dsolve, Derivative \n",
    "\n",
    "t, k, m, A = symbols('t k m A', real=True)\n",
    "\n",
    "x1, x2 = symbols(\"x_1 x_2\", cls=Function, real=True)\n",
    "\n",
    "eqns = [Eq(Derivative(x1(t),t,2), -2*x1(t)+x2(t)), Eq(Derivative(x2(t),t,2), x1(t)-2*x2(t))]\n",
    "# display(eqns[0])\n",
    "# display(eqns[1])\n",
    "\n",
    "sol = dsolve(eqns, [x1(t), x2(t)])\n",
    "# display(sol[0])\n",
    "# display(sol[1])\n",
    "\n",
    "solution = dsolve(eqns, [x1(t), x2(t)], ics={Derivative(x1(t),t,1).subs(t,0): 0, Derivative(x2(t),t,1).subs(t,0):0, x1(0): 1, x2(0): 0})\n",
    "display(solution[0])\n",
    "display(solution[1])"
   ]
  },
  {
   "cell_type": "code",
   "execution_count": 101,
   "id": "5f875ff0",
   "metadata": {},
   "outputs": [
    {
     "data": {
      "text/latex": [
       "$\\displaystyle \\left[\\begin{matrix}\\frac{d^{2}}{d t^{2}} x_{1}\\\\\\frac{d^{2}}{d t^{2}} x_{2}\\end{matrix}\\right]$"
      ],
      "text/plain": [
       "Matrix([\n",
       "[Derivative(x_1, (t, 2))],\n",
       "[Derivative(x_2, (t, 2))]])"
      ]
     },
     "metadata": {},
     "output_type": "display_data"
    },
    {
     "data": {
      "text/latex": [
       "$\\displaystyle \\left[\\begin{matrix}- \\frac{2 k x_{1}}{m} + \\frac{k x_{2}}{m}\\\\\\frac{k x_{1}}{m} - \\frac{2 k x_{2}}{m}\\end{matrix}\\right]$"
      ],
      "text/plain": [
       "Matrix([\n",
       "[-2*k*x_1/m + k*x_2/m],\n",
       "[ k*x_1/m - 2*k*x_2/m]])"
      ]
     },
     "metadata": {},
     "output_type": "display_data"
    },
    {
     "data": {
      "text/plain": [
       "{x_1: (-2*m*Derivative(x_1, (t, 2)) - m*Derivative(x_2, (t, 2)))/(3*k),\n",
       " x_2: (-m*Derivative(x_1, (t, 2)) - 2*m*Derivative(x_2, (t, 2)))/(3*k)}"
      ]
     },
     "metadata": {},
     "output_type": "display_data"
    },
    {
     "ename": "AttributeError",
     "evalue": "'dict' object has no attribute 'tolist'",
     "output_type": "error",
     "traceback": [
      "\u001b[1;31m---------------------------------------------------------------------------\u001b[0m",
      "\u001b[1;31mAttributeError\u001b[0m                            Traceback (most recent call last)",
      "Cell \u001b[1;32mIn[101], line 26\u001b[0m\n\u001b[0;32m     24\u001b[0m solution \u001b[38;5;241m=\u001b[39m solve(eqn, x1, x2)\n\u001b[0;32m     25\u001b[0m display(solution)\n\u001b[1;32m---> 26\u001b[0m display(\u001b[43msolution\u001b[49m\u001b[38;5;241;43m.\u001b[39;49m\u001b[43mtolist\u001b[49m())\n\u001b[0;32m     27\u001b[0m \u001b[38;5;66;03m# display(solution[0])\u001b[39;00m\n\u001b[0;32m     28\u001b[0m \u001b[38;5;28mtype\u001b[39m(solution\u001b[38;5;241m.\u001b[39mvalues())\n",
      "\u001b[1;31mAttributeError\u001b[0m: 'dict' object has no attribute 'tolist'"
     ]
    }
   ],
   "source": [
    "from sympy import symbols, Function, Eq, dsolve, solve, Derivative, Matrix, MatrixSymbol, MatMul\n",
    "\n",
    "t, k, m, A, x_vec = symbols('t k m A  x_vec', real=True)\n",
    "\n",
    "x1, x2 = symbols(\"x_1 x_2\", real=True)\n",
    "\n",
    "x_vec = symbols('t k m A  x_vec', real=True, cls=Function)\n",
    "\n",
    "matrix = Matrix([[-2, 1], \n",
    "                 [1, -2]])\n",
    "A= (k/m) * matrix\n",
    "x_vec = Matrix([x1, x2])\n",
    "# X = MatrixSymbol('X', 2, 1)\n",
    "\n",
    "RHS = (A * x_vec)\n",
    "LHS=Matrix([Derivative(x1, t, 2), Derivative(x2,t,2)])\n",
    "display(LHS)\n",
    "display(RHS)\n",
    "\n",
    "eqn=Eq(LHS,RHS)\n",
    "# display(LHS-RHS)\n",
    "eqn = (LHS-RHS).T.tolist()[0]\n",
    "\n",
    "solution = solve(eqn, x1, x2)\n",
    "display(solution)\n",
    "display(solution.tolist())\n",
    "# display(solution[0])\n",
    "type(solution.values())"
   ]
  },
  {
   "cell_type": "code",
   "execution_count": 9,
   "id": "c92bba9a",
   "metadata": {},
   "outputs": [
    {
     "data": {
      "text/latex": [
       "$\\displaystyle X$"
      ],
      "text/plain": [
       "X"
      ]
     },
     "metadata": {},
     "output_type": "display_data"
    }
   ],
   "source": [
    "from sympy import MatrixSymbol, Matrix\n",
    "X = MatrixSymbol('X', 3, 3)\n",
    "display(X)"
   ]
  }
 ],
 "metadata": {
  "kernelspec": {
   "display_name": "venvPP",
   "language": "python",
   "name": "venvpp"
  },
  "language_info": {
   "codemirror_mode": {
    "name": "ipython",
    "version": 3
   },
   "file_extension": ".py",
   "mimetype": "text/x-python",
   "name": "python",
   "nbconvert_exporter": "python",
   "pygments_lexer": "ipython3",
   "version": "3.12.0"
  }
 },
 "nbformat": 4,
 "nbformat_minor": 5
}
