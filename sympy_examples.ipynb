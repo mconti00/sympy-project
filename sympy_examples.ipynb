{
 "cells": [
  {
   "cell_type": "code",
   "execution_count": null,
   "id": "efbeca71",
   "metadata": {},
   "outputs": [],
   "source": [
    "# %pip install numpy\n",
    "# %pip install matplotlib\n",
    "# %pip install scipy"
   ]
  },
  {
   "cell_type": "markdown",
   "id": "bcab6ba0",
   "metadata": {},
   "source": [
    "# Example 1. Solving a First-Order ODE: Expontial Decay\n",
    "\n",
    "To begin with, we wish to solve a first-order ODE, taking the example of the exponential decay of a radioactive sample. The quantity subject to exponential decay $N$ (with arbitrary units) has inital value $N_0$ at time $t=0$ and behaves according to the following differential equation at $t>0$:\n",
    "\n",
    "$$\n",
    "\\begin{equation}\n",
    "    \\frac{dN}{dt}=-\\lambda N\n",
    "    \\label{eq: exp decay} \\tag{1}\n",
    "\\end{equation}\n",
    "$$\n",
    "\n",
    "with $\\lambda$ the decay constant, related to the half-life by $t_{1/2} = \\ln{(2)}\\text{/}\\lambda$.\n",
    "\n",
    "The solution to equation $\\eqref{eq: exp decay}$ can be derived analytically in a straight-forward way by separation of varibles and is given by,\n",
    "\n",
    "$$\n",
    "\\begin{equation}\n",
    "    N(t)=N_0 e^{-\\lambda t}\n",
    "    \\label{eq: exp decay solution} \\tag{2}\n",
    "\\end{equation}\n",
    "$$\n",
    "\n",
    "\n",
    "We now wish to solve Equation \\eqref{eq: exp decay} by two differnt means, which are to be compared: \n",
    "1) odeint library from SciPy, and\n",
    "2) sympy symbolic mathematics library,\n",
    "\n",
    "where the former solves ODEs numerically and the latter gives an exact symbolic solution.\n",
    "\n",
    "\n",
    "## a) with SciPy\n",
    "\n",
    "In order to comapare the two means, we measure the time taken to solve Equation $\\eqref{eq: exp decay}$."
   ]
  },
  {
   "cell_type": "code",
   "execution_count": 22,
   "id": "82d19b30-3146-4024-a2bd-73d05fc10a25",
   "metadata": {},
   "outputs": [
    {
     "name": "stdout",
     "output_type": "stream",
     "text": [
      "Elapsed time to solve the ODE: 0.001993417739868164 seconds\n"
     ]
    }
   ],
   "source": [
    "import time\n",
    "\n",
    "start_time = time.time()\n",
    "\n",
    "import numpy as np\n",
    "from scipy.integrate import odeint\n",
    "import matplotlib.pyplot as plt\n",
    "\n",
    "# Define a function that returns derivative values at requested y and t values\n",
    "def FODE(N,t):\n",
    "    l=0.3\n",
    "    dNdt = -l*N\n",
    "    return dNdt\n",
    "\n",
    "# Initial condition\n",
    "N_0 = 5\n",
    "\n",
    "# Time points\n",
    "t_values = np.linspace(0,20)\n",
    "\n",
    "# Solve the ODE where odeint requires the model function, the initial conditions of the differential states and the time values at which the solution should be given\n",
    "N_values = odeint(FODE, N_0, t_values)\n",
    "\n",
    "end_time = time.time()\n",
    "\n",
    "elapsed_time = end_time - start_time\n",
    "print(f\"Elapsed time to solve the ODE: {elapsed_time} seconds\")"
   ]
  },
  {
   "cell_type": "markdown",
   "id": "97f42814",
   "metadata": {},
   "source": [
    "### Plotting the solution"
   ]
  },
  {
   "cell_type": "code",
   "execution_count": 24,
   "id": "972f291a",
   "metadata": {},
   "outputs": [
    {
     "data": {
      "image/png": "[encoded data removed]",
      "text/plain": [
       "<Figure size 640x480 with 1 Axes>"
      ]
     },
     "metadata": {},
     "output_type": "display_data"
    }
   ],
   "source": [
    "plt.plot(t_values, N_values, 'b')\n",
    "plt.plot(t_values, N_values, 'r*')\n",
    "plt.xlabel('Time (hours)')\n",
    "plt.ylabel('Radioactive material (arbitrary units)')\n",
    "plt.grid()\n",
    "plt.show()"
   ]
  },
  {
   "cell_type": "markdown",
   "id": "5aecb307",
   "metadata": {},
   "source": [
    "## b) with SymPy\n",
    "\n",
    "SymPy evaluates the solution to an equation by:\n",
    "1) defining the function it needs to solve for [with sym.Function()], \n",
    "2) defining all symbols representing the variables in the equation [with sym.symbols()], and\n",
    "3) defining the equation to be solved [with symb.Eq(), where in the brackets the LHS is followed by a comma and the RHS].\n",
    "\n",
    "Finally, the equation is solved by using sym.dsolve(), with the equation and the function are to be specified in the brackets."
   ]
  },
  {
   "cell_type": "code",
   "execution_count": 42,
   "id": "e3b5eb53-a577-41d6-aa0e-e43d975a6880",
   "metadata": {},
   "outputs": [
    {
     "name": "stdout",
     "output_type": "stream",
     "text": [
      "Elapsed time to solve the ODE: 0.08581829071044922 seconds\n"
     ]
    }
   ],
   "source": [
    "start_time = time.time()\n",
    "\n",
    "import sympy as sym\n",
    "\n",
    "# Define the variable we want to solve for\n",
    "N = sym.Function('N', real=True) \n",
    "\n",
    "# Define all symbols used in the problem: t for time, l for lambda, the decay constant and y0 for the ...\n",
    "t, l = sym.symbols('t lambda', real=True) # Notice formatting without commas in RHS\n",
    "\n",
    "# Define the equation to solve\n",
    "expr_decay = sym.Eq(N(t).diff(t), -l*N(t))\n",
    "\n",
    "# Solve the equation\n",
    "sol_decay = sym.dsolve(expr_decay, N(t))\n",
    "\n",
    "\n",
    "end_time = time.time()\n",
    "\n",
    "elapsed_time = end_time - start_time\n",
    "print(f\"Elapsed time to solve the ODE: {elapsed_time} seconds\")"
   ]
  },
  {
   "cell_type": "code",
   "execution_count": 43,
   "id": "b20245d9",
   "metadata": {},
   "outputs": [
    {
     "data": {
      "text/latex": [
       "$\\displaystyle N{\\left(t \\right)} = C_{1} e^{- \\lambda t}$"
      ],
      "text/plain": [
       "Eq(N(t), C1*exp(-lambda*t))"
      ]
     },
     "execution_count": 43,
     "metadata": {},
     "output_type": "execute_result"
    }
   ],
   "source": [
    "# Print the solution in LaTeX format\n",
    "sol_decay"
   ]
  },
  {
   "cell_type": "markdown",
   "id": "a18ed466",
   "metadata": {},
   "source": [
    "As expected, the solution with SymPy is a symbolic expression, which could be more useful if you need an exact formula or if you want to perform further symbolic manipulations."
   ]
  },
  {
   "cell_type": "markdown",
   "id": "d8efe85f",
   "metadata": {},
   "source": [
    "### Specifying the initial conditions, e.g. $N_0=5$"
   ]
  },
  {
   "cell_type": "markdown",
   "id": "5c6d73d6",
   "metadata": {},
   "source": [
    "To solve for the constant $C_1$, we can use an inbuilt SymPy function wherein you call initial conditions in the sym.dsolve() function as follows:\n",
    "\n",
    "ics_decay = {N(0): $5$}\n",
    "\n",
    "for a single initial condition (we shall see the case of two initial conditions in Example 2. Note that the semi-colon is used to specify the value instead of an equal sign."
   ]
  },
  {
   "cell_type": "code",
   "execution_count": 29,
   "id": "96ad8270",
   "metadata": {},
   "outputs": [
    {
     "data": {
      "text/latex": [
       "$\\displaystyle N{\\left(t \\right)} = 5 e^{- \\lambda t}$"
      ],
      "text/plain": [
       "Eq(N(t), 5*exp(-lambda*t))"
      ]
     },
     "execution_count": 29,
     "metadata": {},
     "output_type": "execute_result"
    }
   ],
   "source": [
    "ics_decay = {N(0): 5}\n",
    "sol_decay_2 = sym.dsolve(expr_decay, N(t), ics=ics_decay)\n",
    "sol_decay_2"
   ]
  },
  {
   "cell_type": "code",
   "execution_count": 30,
   "id": "1e3a9501",
   "metadata": {},
   "outputs": [
    {
     "data": {
      "text/latex": [
       "$\\displaystyle N{\\left(t \\right)} = 5 e^{- 0.3 t}$"
      ],
      "text/plain": [
       "Eq(N(t), 5*exp(-0.3*t))"
      ]
     },
     "execution_count": 30,
     "metadata": {},
     "output_type": "execute_result"
    }
   ],
   "source": [
    "# Assuming 𝜆=0.3, \n",
    "sol_decay_complete = sol_decay_2.subs({l:0.3})\n",
    "sol_decay_complete"
   ]
  },
  {
   "cell_type": "markdown",
   "id": "476b4424",
   "metadata": {},
   "source": [
    "### Plotting the symbolic function"
   ]
  },
  {
   "cell_type": "code",
   "execution_count": 32,
   "id": "f8f042fa-ae68-4a08-b600-fc7656464cc7",
   "metadata": {},
   "outputs": [
    {
     "data": {
      "image/png": "[encoded data removed]",
      "text/plain": [
       "<Figure size 640x480 with 1 Axes>"
      ]
     },
     "metadata": {},
     "output_type": "display_data"
    },
    {
     "data": {
      "text/plain": [
       "<sympy.plotting.plot.Plot at 0x20ef568a490>"
      ]
     },
     "execution_count": 32,
     "metadata": {},
     "output_type": "execute_result"
    }
   ],
   "source": [
    "sym.plot(sol_decay_complete.rhs, (t,0,20), line_color='g', xlabel='Time (hours)', ylabel='Radioactive material (arbitrary units)', xlim=(0,20), ylim=(0,5), axis_center=(0,0), grid=True, show=True)"
   ]
  },
  {
   "cell_type": "markdown",
   "id": "10fea3d6",
   "metadata": {},
   "source": [
    "# Example 2. Solving a Second-Order ODE: Spring\n",
    "\n",
    "This section will work us through a second order ODE, introducing syntax and solving the numerical coefficients in the analytical solution using boundary conditions. \n",
    "\n",
    "First lets imagine the second order ODE:\n",
    "\n",
    "$$mx''(t) + bx'(t) + kx(t) = F(t),$$\n",
    "\n",
    "which you may recognise as a spring equation with a driving force $F(t)$. For the sake of simplicity, we will assume there is no driving force behind this spring and can therefore set the RHS to zero.\n",
    "\n",
    "This then reduces to \n",
    "$$mx''(t) + bx'(t) + kx(t) = 0,$$\n",
    "\n",
    "where we can see that each term should be a force. $m$ is mass, $b$ is a damping coefficient, and $k$ is the spring constant. \n",
    "\n",
    "Since this is a moderately simple ODE, we can solve this using an analytical approach by hand: \n",
    "$$x(t) = e^{\\frac{\\gamma}{2}t}[Ae^{\\omega t}+Be^{-\\omega t}]$$\n",
    "\n",
    "where the first exponential term comes from the decay of the system due to damping, and the second term is from the oscillations themselves. Here $A$ and $B$ are constants, and $\\omega^2 = \\omega_0^2-\\frac{\\gamma^2}{4}.$ Here we also take $\\omega_0$ to be the natural frequency of the oscillation if there were no damping, this is defined as $\\omega_0 = \\sqrt{\\frac{k}{m}}.$ The last term is a damping coefficient and is related to $b$ by $\\gamma = \\frac{b}{m}.$\n",
    "\n",
    "Now lets solve the same system in SymPy.\n"
   ]
  },
  {
   "cell_type": "markdown",
   "id": "2a975044",
   "metadata": {},
   "source": [
    "## a) spring without damping"
   ]
  },
  {
   "cell_type": "markdown",
   "id": "599a23ed",
   "metadata": {},
   "source": [
    "The simplest way to do this is with just two terms. Let's ignore friction, like all good physicists must. $b=0$"
   ]
  },
  {
   "cell_type": "code",
   "execution_count": 33,
   "id": "83e38ac1",
   "metadata": {},
   "outputs": [
    {
     "data": {
      "text/latex": [
       "$\\displaystyle k x{\\left(t \\right)} = 0$"
      ],
      "text/plain": [
       "Eq(k*x(t), 0)"
      ]
     },
     "execution_count": 33,
     "metadata": {},
     "output_type": "execute_result"
    }
   ],
   "source": [
    "# Define a function, in this case we use x which is expressed above as x(t)\n",
    "x = sym.Function('x')(t)\n",
    "\n",
    "# Define the symbols relevant to this problem: t for time, m for mass, and k for spring constant\n",
    "t, m, k = sym.symbols('t m k') \n",
    "\n",
    "# Now we can enter our equation into a variable using sym.Eq()\n",
    "spring1 = sym.Eq(m * x.diff(t, 2) + k * x, 0)\n",
    "\n",
    "# And print in LaTeX format by calling spring1\n",
    "spring1"
   ]
  },
  {
   "cell_type": "markdown",
   "id": "2a9c433b",
   "metadata": {},
   "source": [
    "Now we can solve using the sym.dsolve function, depending on how many cores you are using this may take a minute"
   ]
  },
  {
   "cell_type": "code",
   "execution_count": 6,
   "id": "b6328644",
   "metadata": {},
   "outputs": [
    {
     "data": {
      "text/latex": [
       "$\\displaystyle x{\\left(t \\right)} = C_{1} e^{- t \\sqrt{- \\frac{k}{m}}} + C_{2} e^{t \\sqrt{- \\frac{k}{m}}}$"
      ],
      "text/plain": [
       "Eq(x(t), C1*exp(-t*sqrt(-k/m)) + C2*exp(t*sqrt(-k/m)))"
      ]
     },
     "execution_count": 6,
     "metadata": {},
     "output_type": "execute_result"
    }
   ],
   "source": [
    "springsol1 = sym.dsolve(spring1)\n",
    "springsol1"
   ]
  },
  {
   "cell_type": "markdown",
   "id": "1638c71f",
   "metadata": {},
   "source": [
    "Which if you care to notice, is the exact same solution without a damping term as described above. "
   ]
  },
  {
   "cell_type": "markdown",
   "id": "fa79759b",
   "metadata": {},
   "source": [
    "## b) with damping\n",
    "\n",
    "Now lets add the damping term and see what happens: "
   ]
  },
  {
   "cell_type": "code",
   "execution_count": 37,
   "id": "6f4361a8",
   "metadata": {},
   "outputs": [
    {
     "data": {
      "text/latex": [
       "$\\displaystyle b \\frac{d}{d t} x{\\left(t \\right)} + k x{\\left(t \\right)} + m \\frac{d^{2}}{d t^{2}} x{\\left(t \\right)} = 0$"
      ],
      "text/plain": [
       "Eq(b*Derivative(x(t), t) + k*x(t) + m*Derivative(x(t), (t, 2)), 0)"
      ]
     },
     "execution_count": 37,
     "metadata": {},
     "output_type": "execute_result"
    }
   ],
   "source": [
    "# Define b, the damping factor\n",
    "b = sym.symbols('b')\n",
    "\n",
    "# Now we can enter our equation into a variable using sym.Eq()\n",
    "spring2 = sym.Eq(m * x.diff(t, 2) + b * x.diff(t,1) + k * x, 0)\n",
    "\n",
    "# And print in LaTeX format by calling spring2\n",
    "spring2"
   ]
  },
  {
   "cell_type": "code",
   "execution_count": 38,
   "id": "0eedfbe9",
   "metadata": {},
   "outputs": [
    {
     "data": {
      "text/latex": [
       "$\\displaystyle x{\\left(t \\right)} = C_{1} e^{\\frac{t \\left(- b + \\sqrt{b^{2} - 4 k m}\\right)}{2 m}} + C_{2} e^{- \\frac{t \\left(b + \\sqrt{b^{2} - 4 k m}\\right)}{2 m}}$"
      ],
      "text/plain": [
       "Eq(x(t), C1*exp(t*(-b + sqrt(b**2 - 4*k*m))/(2*m)) + C2*exp(-t*(b + sqrt(b**2 - 4*k*m))/(2*m)))"
      ]
     },
     "execution_count": 38,
     "metadata": {},
     "output_type": "execute_result"
    }
   ],
   "source": [
    "springsol2 = sym.dsolve(spring2)\n",
    "springsol2"
   ]
  },
  {
   "cell_type": "markdown",
   "id": "24bfe3b5",
   "metadata": {},
   "source": [
    "Which again, if we were to look really closely at the analytical solution by hand, we would find an indentical counterpart here. For the sake of clarity, lets use numbers now instead of symbols for our constants:"
   ]
  },
  {
   "cell_type": "code",
   "execution_count": 39,
   "id": "c673485b",
   "metadata": {},
   "outputs": [
    {
     "data": {
      "text/latex": [
       "$\\displaystyle x{\\left(t \\right)} = \\left(C_{1} \\sin{\\left(0.368924169967038 t \\right)} + C_{2} \\cos{\\left(0.368924169967038 t \\right)}\\right) e^{- 0.0121654501216545 t}$"
      ],
      "text/plain": [
       "Eq(x(t), (C1*sin(0.368924169967038*t) + C2*cos(0.368924169967038*t))*exp(-0.0121654501216545*t))"
      ]
     },
     "execution_count": 39,
     "metadata": {},
     "output_type": "execute_result"
    }
   ],
   "source": [
    "# Define numerical values\n",
    "k = 0.56 # kg/s^2\n",
    "m = 4.11 # kg\n",
    "b = 0.1  # kg/s\n",
    "\n",
    "spring3 = sym.Eq(m * x.diff(t, 2) + b * x.diff(t,1) + k * x, 0)\n",
    "springsol3 = sym.dsolve(spring3)\n",
    "springsol3"
   ]
  },
  {
   "cell_type": "markdown",
   "id": "cc7defd3",
   "metadata": {},
   "source": [
    "Which corresponds equally well with the above solution. However this is a good example of why it is useful to leave all solutions in symbolic form, because this is ugly and numbers are for engineers. "
   ]
  },
  {
   "cell_type": "markdown",
   "id": "d4c60aa4",
   "metadata": {},
   "source": [
    "The last section of this is to solve for the constants $C_1$ and $C_2$. This is done similarly as in Example 1 of the exponential decay. However, here we need to initial conditions, one for $x$ and the other for its derivative. Hence, the syntax is a little strange so lets go over it:\n",
    "\n",
    "ics={x.diff(t,1).subs(t,0): 0, x.subs(t,0): -0.1}\n",
    "\n",
    "You first call the variable such as x.diff(t,1) which is the first order derivative.<br>\n",
    "Then you call .subs(var, value), that is to say the independent variable (t here) and the value for which you set the condition.<br>\n",
    "Then you follow that with : value for the value it takes at the value given in .subs()\n"
   ]
  },
  {
   "cell_type": "code",
   "execution_count": 41,
   "id": "7271b2e6",
   "metadata": {},
   "outputs": [
    {
     "data": {
      "text/latex": [
       "$\\displaystyle x{\\left(t \\right)} = \\left(x_{0} \\cos{\\left(0.368924169967038 t \\right)} + \\left(\\frac{2.055 \\cdot 10^{17} dxdt_{0} e^{0.0121654501216545 t_{0}}}{- 2.5 \\cdot 10^{15} \\sin{\\left(0.368924169967038 t_{0} \\right)} + 7.58139169282263 \\cdot 10^{16} \\cos{\\left(0.368924169967038 t_{0} \\right)}} + \\frac{7.58139169282263 \\cdot 10^{16} x_{0} \\sin{\\left(0.368924169967038 t_{0} \\right)}}{- 2.5 \\cdot 10^{15} \\sin{\\left(0.368924169967038 t_{0} \\right)} + 7.58139169282263 \\cdot 10^{16} \\cos{\\left(0.368924169967038 t_{0} \\right)}} + \\frac{2.5 \\cdot 10^{15} x_{0} \\cos{\\left(0.368924169967038 t_{0} \\right)}}{- 2.5 \\cdot 10^{15} \\sin{\\left(0.368924169967038 t_{0} \\right)} + 7.58139169282263 \\cdot 10^{16} \\cos{\\left(0.368924169967038 t_{0} \\right)}}\\right) \\sin{\\left(0.368924169967038 t \\right)}\\right) e^{- 0.0121654501216545 t}$"
      ],
      "text/plain": [
       "Eq(x(t), (x0*cos(0.368924169967038*t) + (2.055e+17*dxdt0*exp(0.0121654501216545*t0)/(-2.5e+15*sin(0.368924169967038*t0) + 7.58139169282263e+16*cos(0.368924169967038*t0)) + 7.58139169282263e+16*x0*sin(0.368924169967038*t0)/(-2.5e+15*sin(0.368924169967038*t0) + 7.58139169282263e+16*cos(0.368924169967038*t0)) + 2.5e+15*x0*cos(0.368924169967038*t0)/(-2.5e+15*sin(0.368924169967038*t0) + 7.58139169282263e+16*cos(0.368924169967038*t0)))*sin(0.368924169967038*t))*exp(-0.0121654501216545*t))"
      ]
     },
     "execution_count": 41,
     "metadata": {},
     "output_type": "execute_result"
    }
   ],
   "source": [
    "# We now need to define some boundary conditions\n",
    "t0, dxdt0, x0 = sym.symbols('t0 dxdt0 x0')\n",
    "\n",
    "\n",
    "springsol4 = sym.dsolve(spring3, x, ics={x.diff(t,1).subs(t,t0): dxdt0, x.subs(t,0): x0})\n",
    "\n",
    "springsol4"
   ]
  },
  {
   "cell_type": "markdown",
   "id": "932a2fbf",
   "metadata": {},
   "source": [
    "Now, if you were paying attention you will have noticed that output looks like a disgusting mess. We can try and simplify the output using sym.simplify()\n",
    "\n",
    "This may take a minute or two to run, given the amount of spaghetti we created above"
   ]
  },
  {
   "cell_type": "code",
   "execution_count": 12,
   "id": "885251e3",
   "metadata": {},
   "outputs": [
    {
     "data": {
      "text/latex": [
       "$\\displaystyle x{\\left(t \\right)} = \\frac{\\left(m \\left(- b^{2} e^{\\frac{t_{0} \\sqrt{b^{2} - 4 k m}}{m}} + b \\sqrt{b^{2} - 4 k m} e^{\\frac{t_{0} \\sqrt{b^{2} - 4 k m}}{m}} + 2 k m e^{\\frac{t_{0} \\sqrt{b^{2} - 4 k m}}{m}} + 2 k m\\right) \\left(- b^{6} dxdt_{0} e^{\\frac{t_{0} \\left(b + 5 \\sqrt{b^{2} - 4 k m}\\right)}{2 m}} + b^{5} dxdt_{0} \\sqrt{b^{2} - 4 k m} e^{\\frac{t_{0} \\left(b + 5 \\sqrt{b^{2} - 4 k m}\\right)}{2 m}} - b^{5} k x_{0} e^{\\frac{2 t_{0} \\sqrt{b^{2} - 4 k m}}{m}} + b^{4} dxdt_{0} k m e^{\\frac{t_{0} \\left(b + 3 \\sqrt{b^{2} - 4 k m}\\right)}{2 m}} + 6 b^{4} dxdt_{0} k m e^{\\frac{t_{0} \\left(b + 5 \\sqrt{b^{2} - 4 k m}\\right)}{2 m}} + b^{4} k x_{0} \\sqrt{b^{2} - 4 k m} e^{\\frac{2 t_{0} \\sqrt{b^{2} - 4 k m}}{m}} - b^{3} dxdt_{0} k m \\sqrt{b^{2} - 4 k m} e^{\\frac{t_{0} \\left(b + 3 \\sqrt{b^{2} - 4 k m}\\right)}{2 m}} - 4 b^{3} dxdt_{0} k m \\sqrt{b^{2} - 4 k m} e^{\\frac{t_{0} \\left(b + 5 \\sqrt{b^{2} - 4 k m}\\right)}{2 m}} + 5 b^{3} k^{2} m x_{0} e^{\\frac{2 t_{0} \\sqrt{b^{2} - 4 k m}}{m}} + b^{3} k^{2} m x_{0} e^{\\frac{t_{0} \\sqrt{b^{2} - 4 k m}}{m}} - 4 b^{2} dxdt_{0} k^{2} m^{2} e^{\\frac{t_{0} \\left(b + 3 \\sqrt{b^{2} - 4 k m}\\right)}{2 m}} - 9 b^{2} dxdt_{0} k^{2} m^{2} e^{\\frac{t_{0} \\left(b + 5 \\sqrt{b^{2} - 4 k m}\\right)}{2 m}} - 3 b^{2} k^{2} m x_{0} \\sqrt{b^{2} - 4 k m} e^{\\frac{2 t_{0} \\sqrt{b^{2} - 4 k m}}{m}} - b^{2} k^{2} m x_{0} \\sqrt{b^{2} - 4 k m} e^{\\frac{t_{0} \\sqrt{b^{2} - 4 k m}}{m}} + 2 b dxdt_{0} k^{2} m^{2} \\sqrt{b^{2} - 4 k m} e^{\\frac{t_{0} \\left(b + 3 \\sqrt{b^{2} - 4 k m}\\right)}{2 m}} + 3 b dxdt_{0} k^{2} m^{2} \\sqrt{b^{2} - 4 k m} e^{\\frac{t_{0} \\left(b + 5 \\sqrt{b^{2} - 4 k m}\\right)}{2 m}} - 5 b k^{3} m^{2} x_{0} e^{\\frac{2 t_{0} \\sqrt{b^{2} - 4 k m}}{m}} - 3 b k^{3} m^{2} x_{0} e^{\\frac{t_{0} \\sqrt{b^{2} - 4 k m}}{m}} + 2 dxdt_{0} k^{3} m^{3} e^{\\frac{t_{0} \\left(b + 3 \\sqrt{b^{2} - 4 k m}\\right)}{2 m}} + 2 dxdt_{0} k^{3} m^{3} e^{\\frac{t_{0} \\left(b + 5 \\sqrt{b^{2} - 4 k m}\\right)}{2 m}} + k^{3} m^{2} x_{0} \\sqrt{b^{2} - 4 k m} e^{\\frac{2 t_{0} \\sqrt{b^{2} - 4 k m}}{m}} + k^{3} m^{2} x_{0} \\sqrt{b^{2} - 4 k m} e^{\\frac{t_{0} \\sqrt{b^{2} - 4 k m}}{m}}\\right) e^{\\frac{t \\left(b + \\sqrt{b^{2} - 4 k m}\\right) + t_{0} \\sqrt{b^{2} - 4 k m}}{2 m}} + \\left(- b^{2} x_{0} e^{\\frac{3 t_{0} \\sqrt{b^{2} - 4 k m}}{2 m}} - b dxdt_{0} m e^{\\frac{t_{0} \\left(b + 2 \\sqrt{b^{2} - 4 k m}\\right)}{2 m}} + b x_{0} \\sqrt{b^{2} - 4 k m} e^{\\frac{3 t_{0} \\sqrt{b^{2} - 4 k m}}{2 m}} + dxdt_{0} m \\sqrt{b^{2} - 4 k m} e^{\\frac{t_{0} \\left(b + 2 \\sqrt{b^{2} - 4 k m}\\right)}{2 m}} + 2 k m x_{0} e^{\\frac{3 t_{0} \\sqrt{b^{2} - 4 k m}}{2 m}}\\right) \\left(b^{7} e^{\\frac{2 t_{0} \\sqrt{b^{2} - 4 k m}}{m}} - b^{6} \\sqrt{b^{2} - 4 k m} e^{\\frac{2 t_{0} \\sqrt{b^{2} - 4 k m}}{m}} - 7 b^{5} k m e^{\\frac{2 t_{0} \\sqrt{b^{2} - 4 k m}}{m}} - 2 b^{5} k m e^{\\frac{t_{0} \\sqrt{b^{2} - 4 k m}}{m}} + 5 b^{4} k m \\sqrt{b^{2} - 4 k m} e^{\\frac{2 t_{0} \\sqrt{b^{2} - 4 k m}}{m}} + 2 b^{4} k m \\sqrt{b^{2} - 4 k m} e^{\\frac{t_{0} \\sqrt{b^{2} - 4 k m}}{m}} + 14 b^{3} k^{2} m^{2} e^{\\frac{2 t_{0} \\sqrt{b^{2} - 4 k m}}{m}} + 10 b^{3} k^{2} m^{2} e^{\\frac{t_{0} \\sqrt{b^{2} - 4 k m}}{m}} + b^{3} k^{2} m^{2} - 6 b^{2} k^{2} m^{2} \\sqrt{b^{2} - 4 k m} e^{\\frac{2 t_{0} \\sqrt{b^{2} - 4 k m}}{m}} - 6 b^{2} k^{2} m^{2} \\sqrt{b^{2} - 4 k m} e^{\\frac{t_{0} \\sqrt{b^{2} - 4 k m}}{m}} - b^{2} k^{2} m^{2} \\sqrt{b^{2} - 4 k m} - 7 b k^{3} m^{3} e^{\\frac{2 t_{0} \\sqrt{b^{2} - 4 k m}}{m}} - 10 b k^{3} m^{3} e^{\\frac{t_{0} \\sqrt{b^{2} - 4 k m}}{m}} - 3 b k^{3} m^{3} + k^{3} m^{3} \\sqrt{b^{2} - 4 k m} e^{\\frac{2 t_{0} \\sqrt{b^{2} - 4 k m}}{m}} + 2 k^{3} m^{3} \\sqrt{b^{2} - 4 k m} e^{\\frac{t_{0} \\sqrt{b^{2} - 4 k m}}{m}} + k^{3} m^{3} \\sqrt{b^{2} - 4 k m}\\right) e^{\\frac{\\frac{t \\left(b - \\sqrt{b^{2} - 4 k m}\\right)}{2} + t_{0} \\sqrt{b^{2} - 4 k m}}{m}}\\right) e^{- \\frac{b t + \\frac{3 t_{0} \\sqrt{b^{2} - 4 k m}}{2}}{m}}}{\\left(- b^{2} e^{\\frac{t_{0} \\sqrt{b^{2} - 4 k m}}{m}} + b \\sqrt{b^{2} - 4 k m} e^{\\frac{t_{0} \\sqrt{b^{2} - 4 k m}}{m}} + 2 k m e^{\\frac{t_{0} \\sqrt{b^{2} - 4 k m}}{m}} + 2 k m\\right) \\left(b^{7} e^{\\frac{2 t_{0} \\sqrt{b^{2} - 4 k m}}{m}} - b^{6} \\sqrt{b^{2} - 4 k m} e^{\\frac{2 t_{0} \\sqrt{b^{2} - 4 k m}}{m}} - 7 b^{5} k m e^{\\frac{2 t_{0} \\sqrt{b^{2} - 4 k m}}{m}} - 2 b^{5} k m e^{\\frac{t_{0} \\sqrt{b^{2} - 4 k m}}{m}} + 5 b^{4} k m \\sqrt{b^{2} - 4 k m} e^{\\frac{2 t_{0} \\sqrt{b^{2} - 4 k m}}{m}} + 2 b^{4} k m \\sqrt{b^{2} - 4 k m} e^{\\frac{t_{0} \\sqrt{b^{2} - 4 k m}}{m}} + 14 b^{3} k^{2} m^{2} e^{\\frac{2 t_{0} \\sqrt{b^{2} - 4 k m}}{m}} + 10 b^{3} k^{2} m^{2} e^{\\frac{t_{0} \\sqrt{b^{2} - 4 k m}}{m}} + b^{3} k^{2} m^{2} - 6 b^{2} k^{2} m^{2} \\sqrt{b^{2} - 4 k m} e^{\\frac{2 t_{0} \\sqrt{b^{2} - 4 k m}}{m}} - 6 b^{2} k^{2} m^{2} \\sqrt{b^{2} - 4 k m} e^{\\frac{t_{0} \\sqrt{b^{2} - 4 k m}}{m}} - b^{2} k^{2} m^{2} \\sqrt{b^{2} - 4 k m} - 7 b k^{3} m^{3} e^{\\frac{2 t_{0} \\sqrt{b^{2} - 4 k m}}{m}} - 10 b k^{3} m^{3} e^{\\frac{t_{0} \\sqrt{b^{2} - 4 k m}}{m}} - 3 b k^{3} m^{3} + k^{3} m^{3} \\sqrt{b^{2} - 4 k m} e^{\\frac{2 t_{0} \\sqrt{b^{2} - 4 k m}}{m}} + 2 k^{3} m^{3} \\sqrt{b^{2} - 4 k m} e^{\\frac{t_{0} \\sqrt{b^{2} - 4 k m}}{m}} + k^{3} m^{3} \\sqrt{b^{2} - 4 k m}\\right)}$"
      ],
      "text/plain": [
       "Eq(x(t), (m*(-b**2*exp(t0*sqrt(b**2 - 4*k*m)/m) + b*sqrt(b**2 - 4*k*m)*exp(t0*sqrt(b**2 - 4*k*m)/m) + 2*k*m*exp(t0*sqrt(b**2 - 4*k*m)/m) + 2*k*m)*(-b**6*dxdt0*exp(t0*(b + 5*sqrt(b**2 - 4*k*m))/(2*m)) + b**5*dxdt0*sqrt(b**2 - 4*k*m)*exp(t0*(b + 5*sqrt(b**2 - 4*k*m))/(2*m)) - b**5*k*x0*exp(2*t0*sqrt(b**2 - 4*k*m)/m) + b**4*dxdt0*k*m*exp(t0*(b + 3*sqrt(b**2 - 4*k*m))/(2*m)) + 6*b**4*dxdt0*k*m*exp(t0*(b + 5*sqrt(b**2 - 4*k*m))/(2*m)) + b**4*k*x0*sqrt(b**2 - 4*k*m)*exp(2*t0*sqrt(b**2 - 4*k*m)/m) - b**3*dxdt0*k*m*sqrt(b**2 - 4*k*m)*exp(t0*(b + 3*sqrt(b**2 - 4*k*m))/(2*m)) - 4*b**3*dxdt0*k*m*sqrt(b**2 - 4*k*m)*exp(t0*(b + 5*sqrt(b**2 - 4*k*m))/(2*m)) + 5*b**3*k**2*m*x0*exp(2*t0*sqrt(b**2 - 4*k*m)/m) + b**3*k**2*m*x0*exp(t0*sqrt(b**2 - 4*k*m)/m) - 4*b**2*dxdt0*k**2*m**2*exp(t0*(b + 3*sqrt(b**2 - 4*k*m))/(2*m)) - 9*b**2*dxdt0*k**2*m**2*exp(t0*(b + 5*sqrt(b**2 - 4*k*m))/(2*m)) - 3*b**2*k**2*m*x0*sqrt(b**2 - 4*k*m)*exp(2*t0*sqrt(b**2 - 4*k*m)/m) - b**2*k**2*m*x0*sqrt(b**2 - 4*k*m)*exp(t0*sqrt(b**2 - 4*k*m)/m) + 2*b*dxdt0*k**2*m**2*sqrt(b**2 - 4*k*m)*exp(t0*(b + 3*sqrt(b**2 - 4*k*m))/(2*m)) + 3*b*dxdt0*k**2*m**2*sqrt(b**2 - 4*k*m)*exp(t0*(b + 5*sqrt(b**2 - 4*k*m))/(2*m)) - 5*b*k**3*m**2*x0*exp(2*t0*sqrt(b**2 - 4*k*m)/m) - 3*b*k**3*m**2*x0*exp(t0*sqrt(b**2 - 4*k*m)/m) + 2*dxdt0*k**3*m**3*exp(t0*(b + 3*sqrt(b**2 - 4*k*m))/(2*m)) + 2*dxdt0*k**3*m**3*exp(t0*(b + 5*sqrt(b**2 - 4*k*m))/(2*m)) + k**3*m**2*x0*sqrt(b**2 - 4*k*m)*exp(2*t0*sqrt(b**2 - 4*k*m)/m) + k**3*m**2*x0*sqrt(b**2 - 4*k*m)*exp(t0*sqrt(b**2 - 4*k*m)/m))*exp((t*(b + sqrt(b**2 - 4*k*m)) + t0*sqrt(b**2 - 4*k*m))/(2*m)) + (-b**2*x0*exp(3*t0*sqrt(b**2 - 4*k*m)/(2*m)) - b*dxdt0*m*exp(t0*(b + 2*sqrt(b**2 - 4*k*m))/(2*m)) + b*x0*sqrt(b**2 - 4*k*m)*exp(3*t0*sqrt(b**2 - 4*k*m)/(2*m)) + dxdt0*m*sqrt(b**2 - 4*k*m)*exp(t0*(b + 2*sqrt(b**2 - 4*k*m))/(2*m)) + 2*k*m*x0*exp(3*t0*sqrt(b**2 - 4*k*m)/(2*m)))*(b**7*exp(2*t0*sqrt(b**2 - 4*k*m)/m) - b**6*sqrt(b**2 - 4*k*m)*exp(2*t0*sqrt(b**2 - 4*k*m)/m) - 7*b**5*k*m*exp(2*t0*sqrt(b**2 - 4*k*m)/m) - 2*b**5*k*m*exp(t0*sqrt(b**2 - 4*k*m)/m) + 5*b**4*k*m*sqrt(b**2 - 4*k*m)*exp(2*t0*sqrt(b**2 - 4*k*m)/m) + 2*b**4*k*m*sqrt(b**2 - 4*k*m)*exp(t0*sqrt(b**2 - 4*k*m)/m) + 14*b**3*k**2*m**2*exp(2*t0*sqrt(b**2 - 4*k*m)/m) + 10*b**3*k**2*m**2*exp(t0*sqrt(b**2 - 4*k*m)/m) + b**3*k**2*m**2 - 6*b**2*k**2*m**2*sqrt(b**2 - 4*k*m)*exp(2*t0*sqrt(b**2 - 4*k*m)/m) - 6*b**2*k**2*m**2*sqrt(b**2 - 4*k*m)*exp(t0*sqrt(b**2 - 4*k*m)/m) - b**2*k**2*m**2*sqrt(b**2 - 4*k*m) - 7*b*k**3*m**3*exp(2*t0*sqrt(b**2 - 4*k*m)/m) - 10*b*k**3*m**3*exp(t0*sqrt(b**2 - 4*k*m)/m) - 3*b*k**3*m**3 + k**3*m**3*sqrt(b**2 - 4*k*m)*exp(2*t0*sqrt(b**2 - 4*k*m)/m) + 2*k**3*m**3*sqrt(b**2 - 4*k*m)*exp(t0*sqrt(b**2 - 4*k*m)/m) + k**3*m**3*sqrt(b**2 - 4*k*m))*exp((t*(b - sqrt(b**2 - 4*k*m))/2 + t0*sqrt(b**2 - 4*k*m))/m))*exp(-(b*t + 3*t0*sqrt(b**2 - 4*k*m)/2)/m)/((-b**2*exp(t0*sqrt(b**2 - 4*k*m)/m) + b*sqrt(b**2 - 4*k*m)*exp(t0*sqrt(b**2 - 4*k*m)/m) + 2*k*m*exp(t0*sqrt(b**2 - 4*k*m)/m) + 2*k*m)*(b**7*exp(2*t0*sqrt(b**2 - 4*k*m)/m) - b**6*sqrt(b**2 - 4*k*m)*exp(2*t0*sqrt(b**2 - 4*k*m)/m) - 7*b**5*k*m*exp(2*t0*sqrt(b**2 - 4*k*m)/m) - 2*b**5*k*m*exp(t0*sqrt(b**2 - 4*k*m)/m) + 5*b**4*k*m*sqrt(b**2 - 4*k*m)*exp(2*t0*sqrt(b**2 - 4*k*m)/m) + 2*b**4*k*m*sqrt(b**2 - 4*k*m)*exp(t0*sqrt(b**2 - 4*k*m)/m) + 14*b**3*k**2*m**2*exp(2*t0*sqrt(b**2 - 4*k*m)/m) + 10*b**3*k**2*m**2*exp(t0*sqrt(b**2 - 4*k*m)/m) + b**3*k**2*m**2 - 6*b**2*k**2*m**2*sqrt(b**2 - 4*k*m)*exp(2*t0*sqrt(b**2 - 4*k*m)/m) - 6*b**2*k**2*m**2*sqrt(b**2 - 4*k*m)*exp(t0*sqrt(b**2 - 4*k*m)/m) - b**2*k**2*m**2*sqrt(b**2 - 4*k*m) - 7*b*k**3*m**3*exp(2*t0*sqrt(b**2 - 4*k*m)/m) - 10*b*k**3*m**3*exp(t0*sqrt(b**2 - 4*k*m)/m) - 3*b*k**3*m**3 + k**3*m**3*sqrt(b**2 - 4*k*m)*exp(2*t0*sqrt(b**2 - 4*k*m)/m) + 2*k**3*m**3*sqrt(b**2 - 4*k*m)*exp(t0*sqrt(b**2 - 4*k*m)/m) + k**3*m**3*sqrt(b**2 - 4*k*m))))"
      ]
     },
     "execution_count": 12,
     "metadata": {},
     "output_type": "execute_result"
    }
   ],
   "source": [
    "# Simplify expression\n",
    "sym.simplify(springsol4)"
   ]
  },
  {
   "cell_type": "markdown",
   "id": "f5524373",
   "metadata": {},
   "source": [
    "Unfortunately, it is probably not going to get better than this. So lets put in some numbers to demonstrate the effectiveness of SymPy at exact analyical solutions to real problems:"
   ]
  },
  {
   "cell_type": "code",
   "execution_count": 13,
   "id": "ba97c016",
   "metadata": {},
   "outputs": [
    {
     "data": {
      "text/latex": [
       "$\\displaystyle x{\\left(t \\right)} = \\left(- 0.00329754760246298 \\sin{\\left(0.368924169967038 t \\right)} - 0.1 \\cos{\\left(0.368924169967038 t \\right)}\\right) e^{- 0.0121654501216545 t}$"
      ],
      "text/plain": [
       "Eq(x(t), (-0.00329754760246298*sin(0.368924169967038*t) - 0.1*cos(0.368924169967038*t))*exp(-0.0121654501216545*t))"
      ]
     },
     "execution_count": 13,
     "metadata": {},
     "output_type": "execute_result"
    }
   ],
   "source": [
    "# Define t and some constants\n",
    "t = sym.symbols('t') \n",
    "k = 0.56 # kg/s^2\n",
    "m = 4.11 # kg\n",
    "b = 0.1  # kg/s\n",
    "\n",
    "# Define a function, in this case we use x which is expressed above as x(t)\n",
    "x = sym.Function('x')(t)\n",
    "\n",
    "# Now we can enter our equation into a variable using sym.Eq()\n",
    "spring4 = sym.Eq(m * x.diff(t, 2) + b * x.diff(t,1) + k * x, 0)\n",
    "\n",
    "# We now need to define some boundary conditions with real numbers this time\n",
    "t0, dxdt0, x0 = 0, 0, -0.1\n",
    "\n",
    "\n",
    "springsol5 = sym.dsolve(spring4, x, ics={x.diff(t,1).subs(t,t0): dxdt0, x.subs(t,0): x0})\n",
    "\n",
    "springsol5"
   ]
  }
 ],
 "metadata": {
  "kernelspec": {
   "display_name": "Python 3 (ipykernel)",
   "language": "python",
   "name": "python3"
  },
  "language_info": {
   "codemirror_mode": {
    "name": "ipython",
    "version": 3
   },
   "file_extension": ".py",
   "mimetype": "text/x-python",
   "name": "python",
   "nbconvert_exporter": "python",
   "pygments_lexer": "ipython3",
   "version": "3.11.5"
  }
 },
 "nbformat": 4,
 "nbformat_minor": 5
}
